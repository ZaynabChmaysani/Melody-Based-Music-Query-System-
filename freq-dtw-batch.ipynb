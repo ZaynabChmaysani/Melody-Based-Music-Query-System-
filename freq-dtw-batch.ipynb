{
 "cells": [
  {
   "cell_type": "code",
   "execution_count": 1,
   "metadata": {},
   "outputs": [],
   "source": [
    "%matplotlib inline\n",
    "import numpy, scipy, matplotlib.pyplot as plt, IPython.display as ipd\n",
    "import librosa, librosa.display\n",
    "#import stanford_mir; stanford_mir.init()\n",
    "import os\n",
    "import time\n",
    "import crepe\n",
    "import numbaDTW\n",
    "#from madmom.features.onsets import RNNOnsetProcessor, OnsetPeakPickingProcessor"
   ]
  },
  {
   "cell_type": "code",
   "execution_count": 2,
   "metadata": {},
   "outputs": [],
   "source": [
    "def read_file(filename):\n",
    "    x, sr = librosa.load(filename)\n",
    "    return x, sr\n",
    "\n",
    "def get_frequency(x, sr):\n",
    "    time, frequency, confidence, activation = crepe.predict(x, sr, viterbi=True, model_capacity='tiny',step_size=10)\n",
    "    # viterbi:temporal smoothing to the pitch curve, model capacity:computation speed, step size:calculate pitch for every 10 milliseconds.\n",
    "    return frequency\n",
    "\n",
    "def get_midi(freq): #t5afef ldifferences (range ...A,)\n",
    "    midi = librosa.core.hz_to_midi(freq)\n",
    "    return midi"
   ]
  },
  {
   "cell_type": "code",
   "execution_count": 3,
   "metadata": {},
   "outputs": [],
   "source": [
    "def get_novelty(track):\n",
    "    hop_length = 512\n",
    "    frame_length = 2048\n",
    "    rmse = librosa.feature.rmse(track, frame_length=frame_length, hop_length=hop_length).flatten()\n",
    "    return  rmse\n"
   ]
  },
  {
   "cell_type": "code",
   "execution_count": 4,
   "metadata": {},
   "outputs": [],
   "source": [
    "def moving_average(x):\n",
    "    y=numpy.zeros_like(x)\n",
    "    for i,_ in enumerate(x):\n",
    "        y[i]=numpy.average(x[max(0,i-20):min(len(x)-1,i+20)])\n",
    "    return y "
   ]
  },
  {
   "cell_type": "code",
   "execution_count": 5,
   "metadata": {},
   "outputs": [],
   "source": [
    "def get_feature(filename):\n",
    "    x, sr = read_file(filename)\n",
    "    frequency = get_frequency(x, sr)\n",
    "    midi = get_midi(frequency)\n",
    "    midi[midi<0] = 0\n",
    "    midi = numpy.round(midi, 0)\n",
    "    return midi\n",
    "    #return frequency\n",
    "\n",
    "def median_filter(x, r):\n",
    "    result = numpy.zeros_like(x)\n",
    "    for i in range(len(x)):\n",
    "        result[i] = numpy.median(x[max(i-r,0):min(i+r, len(x)-1)])\n",
    "    return result"
   ]
  },
  {
   "cell_type": "code",
   "execution_count": 6,
   "metadata": {},
   "outputs": [],
   "source": [
    "def low_pass_filter(signal,cutoff=0.05): #after testing at whitch frequency is the noise,cutoff huwe  aya cutoff bishil\n",
    "    #aktr shi noise \n",
    "   # signal = signal / (numpy.median(signal)-1)\n",
    "    y = numpy.fft.rfft(signal)\n",
    "    cutoff = int(cutoff * len(y))\n",
    "    for i in range( cutoff, len(y) - cutoff):\n",
    "        y[i] = 0\n",
    "    x = numpy.fft.irfft(y)\n",
    "    #plt.plot(x)\n",
    "    return x "
   ]
  },
  {
   "cell_type": "code",
   "execution_count": 7,
   "metadata": {},
   "outputs": [],
   "source": [
    "def get_correlation(feature, feature_reference):\n",
    "    feature = feature[40:-40]\n",
    "   \n",
    "    f_len = len(feature) #length of the hummed features (frames)\n",
    "    r_len = len(feature_reference) #length of the reference features\n",
    "    \n",
    "    feature = feature - numpy.median(feature)\n",
    "    \n",
    "    feature = feature/numpy.linalg.norm(feature) #normalize the features\n",
    "    max_result = -1\n",
    "    results=[]\n",
    "    \n",
    "    for i in range(r_len - f_len +1):\n",
    "        s_reference = feature_reference[i:i+f_len] # get a window of a reference \n",
    "        s_reference = s_reference - numpy.median(s_reference)\n",
    "        s_reference = s_reference/numpy.linalg.norm(s_reference) #normalization \n",
    "        \n",
    "        scalar = numpy.dot(feature, s_reference) #inner product\n",
    "        result = scalar\n",
    "        results.append(result)\n",
    "        if result > max_result: \n",
    "            max_result = result\n",
    "    \n",
    "    return max_result\n",
    "    #return results\n",
    "\n",
    "def get_dtw(chroma, chroma_reference):\n",
    "    #chroma = chroma[40:-40]\n",
    "    #chroma = chroma / (numpy.linalg.norm(chroma))\n",
    "    #chroma_reference = chroma_reference / (numpy.linalg.norm(chroma_reference))\n",
    "   # chroma = chroma / (numpy.max(chroma))\n",
    "   # chroma_reference = chroma_reference / (numpy.max(chroma_reference)) #nazaln lanafs mustawa lenergy lalsot \n",
    "    D = numbaDTW.distanceMatrix(chroma, chroma_reference)\n",
    "    d, wp = librosa.core.dtw(C=D, subseq = True )\n",
    "    \n",
    "    return D, wp\n",
    "   \n",
    "\n",
    "def get_cost(D, wp):   \n",
    "    return D[wp[0][0], wp[0][1]]\n",
    "   \n",
    "    #slope=(wp[-1][1] - wp[0][1] ) / (wp[-1][0] - wp[0][0])\n",
    "    #return abs( 1 - slope)\n",
    "\n",
    "def compare(track, reference): \n",
    "      \n",
    "    track=track[20:-20]\n",
    "    track=low_pass_filter(track)\n",
    "    track = track / numpy.median(track)\n",
    "    \n",
    "    reference = low_pass_filter(reference)\n",
    "    reference = reference / numpy.median(reference)\n",
    "   \n",
    "    D, wp = get_dtw(track, reference)\n",
    "    cost = get_cost(D, wp)\n",
    "   \n",
    "    #cost = get_correlation(track, reference)\n",
    "    #cost = max(cost)\n",
    "    return cost\n",
    "  \n",
    "   "
   ]
  },
  {
   "cell_type": "code",
   "execution_count": 8,
   "metadata": {
    "scrolled": false
   },
   "outputs": [
    {
     "name": "stdout",
     "output_type": "stream",
     "text": [
      "0.0 %\n",
      "time taken: 33.6828875541687\n",
      "3.225806451612903 %\n",
      "time taken: 18.194918870925903\n",
      "6.451612903225806 %\n",
      "time taken: 30.089364290237427\n",
      "9.67741935483871 %\n",
      "time taken: 26.751134157180786\n",
      "12.903225806451612 %\n",
      "time taken: 15.644106388092041\n",
      "16.129032258064516 %\n",
      "time taken: 29.589009284973145\n",
      "19.35483870967742 %\n",
      "time taken: 36.903197288513184\n",
      "22.58064516129032 %\n",
      "time taken: 42.233986377716064\n",
      "25.806451612903224 %\n",
      "time taken: 18.225522994995117\n",
      "29.03225806451613 %\n",
      "time taken: 21.57930088043213\n",
      "32.25806451612903 %\n",
      "time taken: 30.221453428268433\n",
      "35.483870967741936 %\n",
      "time taken: 31.977705001831055\n",
      "38.70967741935484 %\n",
      "time taken: 30.444621086120605\n",
      "41.935483870967744 %\n",
      "time taken: 30.135396480560303\n",
      "45.16129032258064 %\n",
      "time taken: 27.194979906082153\n",
      "48.38709677419355 %\n",
      "time taken: 17.379339456558228\n",
      "51.61290322580645 %\n",
      "time taken: 34.07719540596008\n",
      "54.83870967741935 %\n",
      "time taken: 24.701515436172485\n",
      "58.06451612903226 %\n",
      "time taken: 25.48009204864502\n",
      "61.29032258064516 %\n",
      "time taken: 31.439351797103882\n",
      "64.51612903225806 %\n",
      "time taken: 43.37682867050171\n",
      "67.74193548387096 %\n",
      "time taken: 34.799712896347046\n",
      "70.96774193548387 %\n",
      "time taken: 25.3499755859375\n",
      "74.19354838709677 %\n",
      "time taken: 17.29327940940857\n",
      "77.41935483870968 %\n",
      "time taken: 43.21667957305908\n",
      "80.64516129032258 %\n",
      "time taken: 28.284748554229736\n",
      "83.87096774193549 %\n",
      "time taken: 33.103498697280884\n",
      "87.09677419354838 %\n",
      "time taken: 21.719420194625854\n",
      "90.32258064516128 %\n",
      "time taken: 35.70535063743591\n",
      "93.54838709677419 %\n",
      "time taken: 25.59914803504944\n",
      "96.7741935483871 %\n",
      "time taken: 30.457782745361328\n"
     ]
    }
   ],
   "source": [
    "allFiles = os.listdir('Db-full-length-midi') #get the names of the files inside folder 'database'\n",
    "allHums = os.listdir('Hums')\n",
    "\n",
    "allResults = []\n",
    "\n",
    "for i, humname in enumerate(allHums):\n",
    "    print(i/len(allHums)*100, '%')\n",
    "    humname =  r'Hums/' + humname #humname\n",
    "    #track,_=read_file(humname)\n",
    "    \n",
    "    track,sr = read_file(humname)\n",
    "    \n",
    "    #hum = get_feature(track) #rmse\n",
    "    hum = get_novelty(track)\n",
    "    \n",
    "    costs = numpy.zeros(len(allFiles)) #initialize the costs to zero\n",
    "    results = []\n",
    "    start=time.time()\n",
    "    for idx, file in enumerate(allFiles): #iterate over all files in the database returns index and element \n",
    "        filename = r'Db-full-length-midi/' + file #path to each file \n",
    "        reference=numpy.load(filename)\n",
    "        cost = compare(hum, reference) #compare the hummed query with the reference song\n",
    "        costs[idx] = cost #put the cost in the array\n",
    "        results.append([cost, file])\n",
    "    end=time.time()\n",
    "    print(\"time taken:\",end-start)\n",
    "    results.sort()\n",
    "    \n",
    "    allResults.append([humname, results])"
   ]
  },
  {
   "cell_type": "code",
   "execution_count": 9,
   "metadata": {},
   "outputs": [],
   "source": [
    "allResults = numpy.array(allResults)"
   ]
  },
  {
   "cell_type": "code",
   "execution_count": 28,
   "metadata": {},
   "outputs": [
    {
     "name": "stdout",
     "output_type": "stream",
     "text": [
      "Hums/hussein.la.vie.en.rose.wav\n",
      "0 [0.078882817485545, 'Gnash ft  Olivia Obrien - I Hate U I Love U piano cover and lyrics by Betty Nguyen.wav.npy']\n",
      "1 [0.09377250743467237, 'La Vie en Rose piano José M. Armenta - Copy.wav.npy']\n",
      "2 [0.24173008073579044, 'Addash kan fi nass  (Piano Solo) - قديش كان في ناس بيانو صولو - Copy.wav.npy']\n",
      "3 [0.3337303932381501, 'DJ Snake ft. Justin Bieber - Let Me Love You (piano cover) (online-audio-converter.com).wav.npy']\n",
      "4 [0.34845372988459006, 'Bazzi - Beautiful (Piano Cover) ft. Camila Cabello Synthesia Tutorial by LittleTranscriber - Copy.wav.npy']\n",
      "5 [0.4971853049545591, 'Céline Dion Damour ou damitié cover.wav.npy']\n",
      "6 [0.538105352210418, 'All Of Me - John Legend (Theatre Grand Piano Cover) - Costantino Carrara.wav.npy']\n",
      "7 [0.5573814141571544, 'Jean Jacques Lafon - Le Géant de Papier - Piano (Adaptation Pascal Mencarelli).wav.npy']\n",
      "8 [0.6046606607767251, 'Alan Walker - Faded Piano Cover (online-audio-converter.com).wav.npy']\n",
      "9 [0.6266340594011678, 'A Thousand Years Piano Cover (Joe Raciti) (1).wav.npy']\n",
      "10 [0.6274768022630067, 'Fairuz - Aatini El Nay (Performed by Bassam El Saghir).wav.npy']\n",
      "11 [0.6575481778468539, 'im so Lonely Broken Angel Piano Cover Fahim Saeed Official - Copy.wav.npy']\n",
      "12 [0.722153132684667, 'Ed Sheeran - Shape Of You Piano cover by Yuval Salomon (online-audio-converter.com).wav.npy']\n",
      "13 [0.730774987521789, 'Charlie Puth  Selena Gomez - We Dont Talk Anymore (Piano cover) - Peter Buka.wav.npy']\n"
     ]
    }
   ],
   "source": [
    "i =i+1\n",
    "print(allResults[i][0])\n",
    "for j, r in enumerate(allResults[i][1]):\n",
    "    print(j,r)"
   ]
  },
  {
   "cell_type": "code",
   "execution_count": null,
   "metadata": {},
   "outputs": [],
   "source": []
  },
  {
   "cell_type": "code",
   "execution_count": null,
   "metadata": {},
   "outputs": [],
   "source": []
  },
  {
   "cell_type": "code",
   "execution_count": 11,
   "metadata": {},
   "outputs": [],
   "source": [
    "rmse = numpy.load(r'RmseMidi/Gnash ft  Olivia Obrien - I Hate U I Love U piano cover and lyrics by Betty Nguyen.wav.npy')"
   ]
  },
  {
   "cell_type": "code",
   "execution_count": 12,
   "metadata": {},
   "outputs": [
    {
     "data": {
      "text/plain": [
       "[<matplotlib.lines.Line2D at 0x340c8407f0>]"
      ]
     },
     "execution_count": 12,
     "metadata": {},
     "output_type": "execute_result"
    },
    {
     "data": {
      "image/png": "[encoded data removed]",
      "text/plain": [
       "<Figure size 432x288 with 1 Axes>"
      ]
     },
     "metadata": {
      "needs_background": "light"
     },
     "output_type": "display_data"
    }
   ],
   "source": [
    "plt.plot(rmse)"
   ]
  },
  {
   "cell_type": "code",
   "execution_count": 13,
   "metadata": {},
   "outputs": [
    {
     "data": {
      "text/plain": [
       "[<matplotlib.lines.Line2D at 0x340cc568d0>]"
      ]
     },
     "execution_count": 13,
     "metadata": {},
     "output_type": "execute_result"
    },
    {
     "data": {
      "image/png": "[encoded data removed]",
      "text/plain": [
       "<Figure size 432x288 with 1 Axes>"
      ]
     },
     "metadata": {
      "needs_background": "light"
     },
     "output_type": "display_data"
    }
   ],
   "source": [
    "plt.plot(low_pass_filter(rmse))"
   ]
  },
  {
   "cell_type": "code",
   "execution_count": null,
   "metadata": {},
   "outputs": [],
   "source": []
  }
 ],
 "metadata": {
  "kernelspec": {
   "display_name": "Python 3",
   "language": "python",
   "name": "python3"
  },
  "language_info": {
   "codemirror_mode": {
    "name": "ipython",
    "version": 3
   },
   "file_extension": ".py",
   "mimetype": "text/x-python",
   "name": "python",
   "nbconvert_exporter": "python",
   "pygments_lexer": "ipython3",
   "version": "3.7.1"
  }
 },
 "nbformat": 4,
 "nbformat_minor": 2
}
