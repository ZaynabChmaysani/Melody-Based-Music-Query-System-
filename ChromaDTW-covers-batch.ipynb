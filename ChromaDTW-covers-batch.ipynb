{
 "cells": [
  {
   "cell_type": "code",
   "execution_count": 6,
   "metadata": {},
   "outputs": [],
   "source": [
    "#music instruments testing with chroma dtw \n",
    "%matplotlib inline\n",
    "import numpy, scipy, matplotlib.pyplot as plt, IPython.display as ipd\n",
    "import librosa, librosa.display\n",
    "#import stanford_mir; stanford_mir.init()\n",
    "import os\n",
    "import time\n",
    "import fastdtw\n",
    "#from madmom.features.onsets import RNNOnsetProcessor, OnsetPeakPickingProcessor"
   ]
  },
  {
   "cell_type": "code",
   "execution_count": null,
   "metadata": {},
   "outputs": [],
   "source": [
    "def read_file(filename):\n",
    "    x, sr = librosa.load(filename)\n",
    "    return x, sr\n",
    "\n",
    "def get_ioi(filename):\n",
    "    probs = RNNOnsetProcessor() (filename)\n",
    "    proc = OnsetPeakPickingProcessor(fps=100)\n",
    "    onsets = proc(probs)\n",
    "    ioi = numpy.diff(onsets)\n",
    "    ioi = ioi/max(ioi)\n",
    "    return ioi\n",
    "\n",
    "def get_chroma(track):\n",
    "    chroma = librosa.feature.chroma_cqt(track, n_chroma=12)\n",
    "    return chroma\n",
    "\n",
    "def get_mfcc(track):\n",
    "    mfcc = librosa.feature.mfcc(track)\n",
    "    return mfcc\n",
    "\n",
    "def get_filtered_novelty(track):\n",
    "    novelty = get_novelty(track)\n",
    "    thresh = numpy.mean(novelty)\n",
    "    novelty[novelty<thresh] = 0\n",
    "    #ini = numpy.diff(novelty)\n",
    "    return novelty\n",
    "    \n",
    "def get_novelty(track):\n",
    "    hop_length = 512\n",
    "    frame_length = 2048\n",
    "    rmse = librosa.feature.rmse(track, frame_length=frame_length, hop_length=hop_length).flatten()\n",
    "    #rmse_diff = numpy.zeros_like(rmse)\n",
    "    #rmse_diff[1:] = numpy.diff(rmse)\n",
    "    #energy_novelty = numpy.max([numpy.zeros_like(rmse_diff), rmse_diff], axis=0)\n",
    "    #energy_novelty = energy_novelty/numpy.max(energy_novelty)\n",
    "    #log_rmse = numpy.log1p(10*rmse)\n",
    "    #log_rmse_diff = numpy.zeros_like(log_rmse)\n",
    "    #log_rmse_diff[1:] = numpy.diff(log_rmse)\n",
    "    #energy_novelty = numpy.max([numpy.zeros_like(log_rmse_diff), log_rmse_diff], axis=0)\n",
    "    \n",
    "    return  rmse\n",
    "\n",
    "def get_dtw(chroma, chroma_reference):\n",
    "    D, wp = librosa.core.dtw(chroma, chroma_reference, subseq = False) #subseq false: mn zewye la zewye \n",
    "    #cost, wp = fastdtw.fastdtw(chroma.T, chroma_reference.T)\n",
    "    return D, wp\n",
    "    #return cost, wp\n",
    "\n",
    "def get_sliding_dtw(chroma, chroma_ref):\n",
    "    f_len = len(chroma) #length of the hummed features (frames)\n",
    "    r_len = len(chroma_ref) #length of the reference features\n",
    "  \n",
    "    min_result = 1000000\n",
    "    results=[]\n",
    "    \n",
    "    for i in range(r_len - f_len +1):#r_len - f_len +1):\n",
    "        if i%100 != 0:\n",
    "            continue\n",
    "        s_reference = chroma_ref[i:i+f_len] # get a window of a reference \n",
    "        scalar,_ = fastdtw.fastdtw(chroma.T, s_reference.T) #inner product\n",
    "        result = scalar\n",
    "        results.append(result)\n",
    "        if result < min_result: \n",
    "            min_result = result\n",
    "    \n",
    "    \n",
    "   # return max_result\n",
    "    return min_result\n",
    "    \n",
    "    \n",
    "    \n",
    "#auto correlation \n",
    "def auto_correlation(x):\n",
    "    x = x-x.mean() #below 0 \n",
    "    r=numpy.correlate(x,x,mode='full')[0:len(x):]\n",
    "    return r\n",
    "\n",
    "def get_cost(D, wp): \n",
    "    cost = D[wp[0][0], wp[0][1]]\n",
    "    return cost\n",
    "\n",
    "    \n",
    "def compare(track, reference):\n",
    "\n",
    "    D, wp = get_dtw(track, reference)\n",
    "    #cost, wp = get_dtw(track, reference)\n",
    "    cost = get_cost(D, wp)\n",
    "    \n",
    "    return cost "
   ]
  },
  {
   "cell_type": "code",
   "execution_count": null,
   "metadata": {},
   "outputs": [
    {
     "name": "stdout",
     "output_type": "stream",
     "text": [
      "0.0 %\n",
      "time taken: 502.6213219165802 sec\n",
      "10.0 %\n"
     ]
    }
   ],
   "source": [
    "allFiles = os.listdir('ChromaMidi') #get the names of the files inside folder 'database'\n",
    "allCovers = os.listdir('songs-covers')\n",
    "\n",
    "allResults = []\n",
    "\n",
    "for i, humname in enumerate(allCovers):\n",
    "    print(i/len(allCovers)*100, '%')\n",
    "    humname =  r'songs-covers/' + humname #humname\n",
    "    #track,_=read_file(humname)\n",
    "    track,sr = read_file(humname)\n",
    "    #hum = get_feature(track) #rmse\n",
    "    hum = get_chroma(track)\n",
    "    costs = numpy.zeros(len(allFiles)) #initialize the costs to zero\n",
    "    results = []\n",
    "    start_time = time.time()\n",
    "    for idx, file in enumerate(allFiles): #iterate over all files in the database returns index and element \n",
    "        filename = r'ChromaMidi/' + file #path to each file \n",
    "        reference=numpy.load(filename)\n",
    "        cost = compare(hum, reference) #compare the hummed query with the reference song\n",
    "        costs[idx] = cost #put the cost in the array\n",
    "        results.append([cost, file])\n",
    "\n",
    "    results.sort()\n",
    "    \n",
    "    allResults.append([humname, results])\n",
    "    \n",
    "    end_time = time.time()\n",
    "    print(\"time taken:\", end_time - start_time, \"sec\")\n",
    "\n"
   ]
  },
  {
   "cell_type": "code",
   "execution_count": null,
   "metadata": {},
   "outputs": [],
   "source": [
    "allResults = numpy.array(allResults)"
   ]
  },
  {
   "cell_type": "code",
   "execution_count": null,
   "metadata": {},
   "outputs": [],
   "source": [
    "i = 1\n",
    "print(allResults[i][0])\n",
    "for j, r in enumerate(allResults[i][1]):\n",
    "    print(j,r)"
   ]
  },
  {
   "cell_type": "code",
   "execution_count": null,
   "metadata": {},
   "outputs": [],
   "source": [
    "#print(costs)"
   ]
  },
  {
   "cell_type": "code",
   "execution_count": null,
   "metadata": {},
   "outputs": [],
   "source": [
    "#print(allFiles)"
   ]
  },
  {
   "cell_type": "code",
   "execution_count": null,
   "metadata": {},
   "outputs": [],
   "source": [
    "#for r in results:\n",
    " #   print(r)"
   ]
  },
  {
   "cell_type": "code",
   "execution_count": null,
   "metadata": {},
   "outputs": [],
   "source": [
    "#plt.bar(allFiles, costs)"
   ]
  },
  {
   "cell_type": "code",
   "execution_count": null,
   "metadata": {},
   "outputs": [],
   "source": [
    "#match = numpy.argmin(costs) #get the minimum cost \n",
    "#print(allFiles[match]) #print the filename of the minimal cost\n",
    "#print(costs[match])"
   ]
  },
  {
   "cell_type": "code",
   "execution_count": null,
   "metadata": {
    "scrolled": false
   },
   "outputs": [],
   "source": [
    "#results.sort()\n",
    "#for i, result in enumerate(results):\n",
    "#    print(i, result)"
   ]
  },
  {
   "cell_type": "code",
   "execution_count": 7,
   "metadata": {},
   "outputs": [],
   "source": [
    "def read_file(filename):\n",
    "    x, sr = librosa.load(filename)\n",
    "    return x, sr"
   ]
  },
  {
   "cell_type": "code",
   "execution_count": 10,
   "metadata": {},
   "outputs": [
    {
     "data": {
      "text/plain": [
       "<matplotlib.axes._subplots.AxesSubplot at 0x23071dbc18>"
      ]
     },
     "execution_count": 10,
     "metadata": {},
     "output_type": "execute_result"
    },
    {
     "data": {
      "image/png": "[encoded data removed]",
      "text/plain": [
       "<Figure size 432x288 with 1 Axes>"
      ]
     },
     "metadata": {
      "needs_background": "light"
     },
     "output_type": "display_data"
    }
   ],
   "source": [
    "filename=r'two.wav'\n",
    "ref, sr=read_file(filename)\n",
    "chroma = librosa.feature.chroma_stft(ref)#[:int(sr*30)])\n",
    "librosa.display.specshow(chroma, y_axis='chroma')\n"
   ]
  },
  {
   "cell_type": "code",
   "execution_count": null,
   "metadata": {},
   "outputs": [],
   "source": []
  }
 ],
 "metadata": {
  "kernelspec": {
   "display_name": "Python 3",
   "language": "python",
   "name": "python3"
  },
  "language_info": {
   "codemirror_mode": {
    "name": "ipython",
    "version": 3
   },
   "file_extension": ".py",
   "mimetype": "text/x-python",
   "name": "python",
   "nbconvert_exporter": "python",
   "pygments_lexer": "ipython3",
   "version": "3.7.1"
  }
 },
 "nbformat": 4,
 "nbformat_minor": 2
}
