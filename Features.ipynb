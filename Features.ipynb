{
 "cells": [
  {
   "cell_type": "code",
   "execution_count": 1,
   "metadata": {},
   "outputs": [],
   "source": [
    "import numpy, scipy,matplotlib.pyplot as plt\n",
    "import librosa, librosa.display\n",
    "import numpy, scipy, matplotlib.pyplot as plt, IPython.display as ipd\n",
    "import librosa, librosa.display\n",
    "#import stanford_mir; stanford_mir.init()\n",
    "import os\n",
    "import time\n",
    "import crepe"
   ]
  },
  {
   "cell_type": "code",
   "execution_count": 2,
   "metadata": {},
   "outputs": [],
   "source": [
    "def read_file(filename):\n",
    "    x, sr = librosa.load(filename)\n",
    "    return x, sr"
   ]
  },
  {
   "cell_type": "code",
   "execution_count": 3,
   "metadata": {},
   "outputs": [],
   "source": [
    "def get_novelty(track):\n",
    "    hop_length = 512\n",
    "    frame_length = 2048\n",
    "    rmse = librosa.feature.rmse(track, frame_length=frame_length, hop_length=hop_length).flatten()\n",
    "    return  rmse"
   ]
  },
  {
   "cell_type": "code",
   "execution_count": 6,
   "metadata": {},
   "outputs": [
    {
     "name": "stdout",
     "output_type": "stream",
     "text": [
      "0.0 %\n",
      "7.142857142857143 %\n",
      "14.285714285714286 %\n",
      "21.428571428571427 %\n",
      "28.571428571428573 %\n",
      "35.714285714285715 %\n",
      "42.857142857142854 %\n",
      "50.0 %\n",
      "57.142857142857146 %\n",
      "64.28571428571429 %\n",
      "71.42857142857143 %\n",
      "78.57142857142857 %\n",
      "85.71428571428571 %\n",
      "92.85714285714286 %\n"
     ]
    }
   ],
   "source": [
    "allFiles = os.listdir('Db.full.length') #get the names of the files inside folder 'database'\n",
    "for idx, file in enumerate(allFiles): #iterate over all files in the database returns index and element\n",
    "    print(idx*100/len(allFiles),\"%\") \n",
    "    filename = r'Db.full.length/' + file #path to each file\n",
    "    #each iteration create a feature file inside diroctory folder\n",
    "    track,_=read_file(filename)\n",
    "    reference = get_novelty(track)\n",
    "    filename_features= r'Db-full-length-midi/' + file #string \n",
    "    numpy.save(filename_features,reference)"
   ]
  },
  {
   "cell_type": "code",
   "execution_count": null,
   "metadata": {},
   "outputs": [],
   "source": []
  },
  {
   "cell_type": "code",
   "execution_count": null,
   "metadata": {},
   "outputs": [],
   "source": []
  },
  {
   "cell_type": "code",
   "execution_count": null,
   "metadata": {},
   "outputs": [],
   "source": []
  }
 ],
 "metadata": {
  "kernelspec": {
   "display_name": "Python 3",
   "language": "python",
   "name": "python3"
  },
  "language_info": {
   "codemirror_mode": {
    "name": "ipython",
    "version": 3
   },
   "file_extension": ".py",
   "mimetype": "text/x-python",
   "name": "python",
   "nbconvert_exporter": "python",
   "pygments_lexer": "ipython3",
   "version": "3.7.1"
  }
 },
 "nbformat": 4,
 "nbformat_minor": 2
}
